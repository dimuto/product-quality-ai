{
 "cells": [
  {
   "cell_type": "markdown",
   "metadata": {},
   "source": [
    "# Test AI pipeline"
   ]
  },
  {
   "cell_type": "code",
   "execution_count": null,
   "metadata": {},
   "outputs": [],
   "source": [
    "import os\n",
    "os.chdir(\"../src\")"
   ]
  },
  {
   "cell_type": "code",
   "execution_count": 10,
   "metadata": {},
   "outputs": [],
   "source": [
    "s3_links = [\n",
    "    \"s3://dimuto-live/jobs/2022121201/CO00139/PPCO0013900631/image_1670809670442-1670809668.png\",\n",
    "    \"s3://dimuto-live/jobs/2022121201/CO00139/PPCO0013900631/image_1670810054809-1670810054.png\",\n",
    "    \"s3://dimuto-live/jobs/2022121202/CO00139/PPCO0013900631/image_1670810636498-1670810634.png\",\n",
    "    \"s3://dimuto-live/jobs/2022121202/CO00139/PPCO0013900631/image_1670811641375-1670811639.png\",\n",
    "    \"s3://dimuto-live/jobs/2022121202/CO00139/PPCO0013900631/image_1670813579426-1670813577.png\",\n",
    "    \"s3://dimuto-live/jobs/2022121203/CO00139/PPCO0013900631/image_1670814701596-1670814699.png\",\n",
    "    \"s3://dimuto-live/jobs/2022121203/CO00139/PPCO0013900631/image_1670814905810-1670814903.png\",\n",
    "    \"s3://dimuto-live/jobs/2022121203/CO00139/PPCO0013900631/image_1670816174505-1670816172.png\",\n",
    "    \"s3://dimuto-live/jobs/2022121203/CO00139/PPCO0013900631/image_1670816955004-1670816955.png\",\n",
    "    \"s3://dimuto-live/jobs/2022121205/CO00139/PPCO0013900631/image_1670823312408-1670823310.png\",\n",
    "    \"s3://dimuto-live/jobs/2022121205/CO00139/PPCO0013900631/image_1670824208468-1670824206.png\",\n",
    "    \"s3://dimuto-live/jobs/2022121205/CO00139/PPCO0013900631/image_1670824688455-1670824686.png\",\n",
    "    \"s3://dimuto-live/jobs/2022121206/CO00139/PPCO0013900631/image_1670825252508-1670825250.png\",\n",
    "    \"s3://dimuto-live/jobs/2022121206/CO00139/PPCO0013900631/image_1670826461312-1670826459.png\",\n",
    "    \"s3://dimuto-live/jobs/2022121206/CO00139/PPCO0013900631/image_1670827376902-1670827375.png\",\n",
    "    \"s3://dimuto-live/jobs/2022121206/CO00139/PPCO0013900631/image_1670828348453-1670828347.png\",\n",
    "    \"s3://dimuto-live/jobs/2022121207/CO00139/PPCO0013900631/image_1670828807373-1670828807.png\",\n",
    "    \"s3://dimuto-live/jobs/2022121207/CO00139/PPCO0013900631/image_1670830184398-1670830182.png\",\n",
    "    \"s3://dimuto-live/jobs/2022121208/CO00139/PPCO0013900631/image_1670832566442-1670832564.png\",\n",
    "    \"s3://dimuto-live/jobs/2022121208/CO00139/PPCO0013900631/image_1670833271755-1670833270.png\",\n",
    "    \"s3://dimuto-live/jobs/2022121208/CO00139/PPCO0013900631/image_1670833982688-1670833981.png\",\n",
    "    \"s3://dimuto-live/jobs/2022121208/CO00139/PPCO0013900631/image_1670835128482-1670835126.png\",\n",
    "    \"s3://dimuto-live/jobs/2022121209/CO00139/PPCO0013900631/image_1670836427336-1670836425.png\",\n",
    "    \"s3://dimuto-live/jobs/2022121209/CO00139/PPCO0013900631/image_1670838414616-1670838414.png\",\n",
    "    \"s3://dimuto-live/jobs/2022121210/CO00139/PPCO0013900631/image_1670839480404-1670839481.png\",\n",
    "    \"s3://dimuto-live/jobs/2022121210/CO00139/PPCO0013900631/image_1670840502589-1670840502.png\",\n",
    "    \"s3://dimuto-live/jobs/2022121210/CO00139/PPCO0013900631/image_1670841528585-1670841528.png\",\n",
    "    \"s3://dimuto-live/jobs/2022121211/CO00139/PPCO0013900631/image_1670843643899-1670843644.png\"\n",
    "]"
   ]
  },
  {
   "cell_type": "code",
   "execution_count": 11,
   "metadata": {},
   "outputs": [
    {
     "name": "stdout",
     "output_type": "stream",
     "text": [
      "download: s3://dimuto-live/jobs/2022121201/CO00139/PPCO0013900631/image_1670809670442-1670809668.png to ../data/evaluate/PPCO0013900631/image_1670809670442-1670809668.png\n",
      "download: s3://dimuto-live/jobs/2022121201/CO00139/PPCO0013900631/image_1670810054809-1670810054.png to ../data/evaluate/PPCO0013900631/image_1670810054809-1670810054.png\n",
      "download: s3://dimuto-live/jobs/2022121202/CO00139/PPCO0013900631/image_1670810636498-1670810634.png to ../data/evaluate/PPCO0013900631/image_1670810636498-1670810634.png\n",
      "download: s3://dimuto-live/jobs/2022121202/CO00139/PPCO0013900631/image_1670811641375-1670811639.png to ../data/evaluate/PPCO0013900631/image_1670811641375-1670811639.png\n",
      "download: s3://dimuto-live/jobs/2022121202/CO00139/PPCO0013900631/image_1670813579426-1670813577.png to ../data/evaluate/PPCO0013900631/image_1670813579426-1670813577.png\n",
      "download: s3://dimuto-live/jobs/2022121203/CO00139/PPCO0013900631/image_1670814701596-1670814699.png to ../data/evaluate/PPCO0013900631/image_1670814701596-1670814699.png\n",
      "download: s3://dimuto-live/jobs/2022121203/CO00139/PPCO0013900631/image_1670814905810-1670814903.png to ../data/evaluate/PPCO0013900631/image_1670814905810-1670814903.png\n",
      "download: s3://dimuto-live/jobs/2022121203/CO00139/PPCO0013900631/image_1670816174505-1670816172.png to ../data/evaluate/PPCO0013900631/image_1670816174505-1670816172.png\n",
      "download: s3://dimuto-live/jobs/2022121203/CO00139/PPCO0013900631/image_1670816955004-1670816955.png to ../data/evaluate/PPCO0013900631/image_1670816955004-1670816955.png\n",
      "download: s3://dimuto-live/jobs/2022121205/CO00139/PPCO0013900631/image_1670823312408-1670823310.png to ../data/evaluate/PPCO0013900631/image_1670823312408-1670823310.png\n",
      "download: s3://dimuto-live/jobs/2022121205/CO00139/PPCO0013900631/image_1670824208468-1670824206.png to ../data/evaluate/PPCO0013900631/image_1670824208468-1670824206.png\n",
      "download: s3://dimuto-live/jobs/2022121205/CO00139/PPCO0013900631/image_1670824688455-1670824686.png to ../data/evaluate/PPCO0013900631/image_1670824688455-1670824686.png\n",
      "download: s3://dimuto-live/jobs/2022121206/CO00139/PPCO0013900631/image_1670825252508-1670825250.png to ../data/evaluate/PPCO0013900631/image_1670825252508-1670825250.png\n",
      "download: s3://dimuto-live/jobs/2022121206/CO00139/PPCO0013900631/image_1670826461312-1670826459.png to ../data/evaluate/PPCO0013900631/image_1670826461312-1670826459.png\n",
      "download: s3://dimuto-live/jobs/2022121206/CO00139/PPCO0013900631/image_1670827376902-1670827375.png to ../data/evaluate/PPCO0013900631/image_1670827376902-1670827375.png\n",
      "download: s3://dimuto-live/jobs/2022121206/CO00139/PPCO0013900631/image_1670828348453-1670828347.png to ../data/evaluate/PPCO0013900631/image_1670828348453-1670828347.png\n",
      "download: s3://dimuto-live/jobs/2022121207/CO00139/PPCO0013900631/image_1670828807373-1670828807.png to ../data/evaluate/PPCO0013900631/image_1670828807373-1670828807.png\n",
      "download: s3://dimuto-live/jobs/2022121207/CO00139/PPCO0013900631/image_1670830184398-1670830182.png to ../data/evaluate/PPCO0013900631/image_1670830184398-1670830182.png\n",
      "download: s3://dimuto-live/jobs/2022121208/CO00139/PPCO0013900631/image_1670832566442-1670832564.png to ../data/evaluate/PPCO0013900631/image_1670832566442-1670832564.png\n",
      "download: s3://dimuto-live/jobs/2022121208/CO00139/PPCO0013900631/image_1670833271755-1670833270.png to ../data/evaluate/PPCO0013900631/image_1670833271755-1670833270.png\n",
      "download: s3://dimuto-live/jobs/2022121208/CO00139/PPCO0013900631/image_1670833982688-1670833981.png to ../data/evaluate/PPCO0013900631/image_1670833982688-1670833981.png\n",
      "download: s3://dimuto-live/jobs/2022121208/CO00139/PPCO0013900631/image_1670835128482-1670835126.png to ../data/evaluate/PPCO0013900631/image_1670835128482-1670835126.png\n",
      "download: s3://dimuto-live/jobs/2022121209/CO00139/PPCO0013900631/image_1670836427336-1670836425.png to ../data/evaluate/PPCO0013900631/image_1670836427336-1670836425.png\n",
      "download: s3://dimuto-live/jobs/2022121209/CO00139/PPCO0013900631/image_1670838414616-1670838414.png to ../data/evaluate/PPCO0013900631/image_1670838414616-1670838414.png\n",
      "download: s3://dimuto-live/jobs/2022121210/CO00139/PPCO0013900631/image_1670839480404-1670839481.png to ../data/evaluate/PPCO0013900631/image_1670839480404-1670839481.png\n",
      "download: s3://dimuto-live/jobs/2022121210/CO00139/PPCO0013900631/image_1670840502589-1670840502.png to ../data/evaluate/PPCO0013900631/image_1670840502589-1670840502.png\n",
      "download: s3://dimuto-live/jobs/2022121210/CO00139/PPCO0013900631/image_1670841528585-1670841528.png to ../data/evaluate/PPCO0013900631/image_1670841528585-1670841528.png\n",
      "download: s3://dimuto-live/jobs/2022121211/CO00139/PPCO0013900631/image_1670843643899-1670843644.png to ../data/evaluate/PPCO0013900631/image_1670843643899-1670843644.png\n"
     ]
    }
   ],
   "source": [
    "# Download images from s3 bucket\n",
    "import os\n",
    "\n",
    "folder = os.path.basename(os.path.dirname(s3_links[0]))\n",
    "\n",
    "for i in s3_links:\n",
    "    file = os.path.basename(i)\n",
    "    \n",
    "    # Save file in same folder, with same file name\n",
    "    os.system(f\"aws s3 cp {i} ../data/evaluate/{folder}/{file}\")\n"
   ]
  },
  {
   "cell_type": "code",
   "execution_count": 12,
   "metadata": {},
   "outputs": [
    {
     "name": "stderr",
     "output_type": "stream",
     "text": [
      "YOLOv5 🚀 2023-1-16 Python-3.8.10 torch-1.12.0+cu102 CUDA:0 (Tesla T4, 14910MiB)\n",
      "\n",
      "Fusing layers... \n",
      "Model summary: 213 layers, 7012822 parameters, 0 gradients, 15.8 GFLOPs\n",
      "image 1/28 /home/ubuntu/product-quality-ai/data/evaluate/PPCO0013900631/image_1670809670442-1670809668.png: 384x640 Done. (0.009s)\n",
      "image 2/28 /home/ubuntu/product-quality-ai/data/evaluate/PPCO0013900631/image_1670810054809-1670810054.png: 384x640 Done. (0.009s)\n",
      "image 3/28 /home/ubuntu/product-quality-ai/data/evaluate/PPCO0013900631/image_1670810636498-1670810634.png: 384x640 Done. (0.009s)\n",
      "image 4/28 /home/ubuntu/product-quality-ai/data/evaluate/PPCO0013900631/image_1670811641375-1670811639.png: 384x640 Done. (0.009s)\n",
      "image 5/28 /home/ubuntu/product-quality-ai/data/evaluate/PPCO0013900631/image_1670813579426-1670813577.png: 384x640 Done. (0.009s)\n",
      "image 6/28 /home/ubuntu/product-quality-ai/data/evaluate/PPCO0013900631/image_1670814701596-1670814699.png: 384x640 Done. (0.009s)\n",
      "image 7/28 /home/ubuntu/product-quality-ai/data/evaluate/PPCO0013900631/image_1670814905810-1670814903.png: 384x640 Done. (0.009s)\n",
      "image 8/28 /home/ubuntu/product-quality-ai/data/evaluate/PPCO0013900631/image_1670816174505-1670816172.png: 384x640 Done. (0.009s)\n",
      "image 9/28 /home/ubuntu/product-quality-ai/data/evaluate/PPCO0013900631/image_1670816955004-1670816955.png: 384x640 Done. (0.009s)\n",
      "image 10/28 /home/ubuntu/product-quality-ai/data/evaluate/PPCO0013900631/image_1670823312408-1670823310.png: 384x640 Done. (0.009s)\n",
      "image 11/28 /home/ubuntu/product-quality-ai/data/evaluate/PPCO0013900631/image_1670824208468-1670824206.png: 384x640 Done. (0.009s)\n",
      "image 12/28 /home/ubuntu/product-quality-ai/data/evaluate/PPCO0013900631/image_1670824688455-1670824686.png: 384x640 Done. (0.009s)\n",
      "image 13/28 /home/ubuntu/product-quality-ai/data/evaluate/PPCO0013900631/image_1670825252508-1670825250.png: 384x640 Done. (0.009s)\n",
      "image 14/28 /home/ubuntu/product-quality-ai/data/evaluate/PPCO0013900631/image_1670826461312-1670826459.png: 384x640 Done. (0.009s)\n",
      "image 15/28 /home/ubuntu/product-quality-ai/data/evaluate/PPCO0013900631/image_1670827376902-1670827375.png: 384x640 Done. (0.009s)\n",
      "image 16/28 /home/ubuntu/product-quality-ai/data/evaluate/PPCO0013900631/image_1670828348453-1670828347.png: 384x640 Done. (0.009s)\n",
      "image 17/28 /home/ubuntu/product-quality-ai/data/evaluate/PPCO0013900631/image_1670828807373-1670828807.png: 384x640 Done. (0.009s)\n",
      "image 18/28 /home/ubuntu/product-quality-ai/data/evaluate/PPCO0013900631/image_1670830184398-1670830182.png: 384x640 Done. (0.009s)\n",
      "image 19/28 /home/ubuntu/product-quality-ai/data/evaluate/PPCO0013900631/image_1670832566442-1670832564.png: 384x640 Done. (0.009s)\n",
      "image 20/28 /home/ubuntu/product-quality-ai/data/evaluate/PPCO0013900631/image_1670833271755-1670833270.png: 384x640 Done. (0.009s)\n",
      "image 21/28 /home/ubuntu/product-quality-ai/data/evaluate/PPCO0013900631/image_1670833982688-1670833981.png: 384x640 Done. (0.009s)\n",
      "image 22/28 /home/ubuntu/product-quality-ai/data/evaluate/PPCO0013900631/image_1670835128482-1670835126.png: 384x640 Done. (0.009s)\n",
      "image 23/28 /home/ubuntu/product-quality-ai/data/evaluate/PPCO0013900631/image_1670836427336-1670836425.png: 384x640 Done. (0.009s)\n",
      "image 24/28 /home/ubuntu/product-quality-ai/data/evaluate/PPCO0013900631/image_1670838414616-1670838414.png: 384x640 Done. (0.009s)\n",
      "image 25/28 /home/ubuntu/product-quality-ai/data/evaluate/PPCO0013900631/image_1670839480404-1670839481.png: 384x640 Done. (0.009s)\n",
      "image 26/28 /home/ubuntu/product-quality-ai/data/evaluate/PPCO0013900631/image_1670840502589-1670840502.png: 384x640 Done. (0.009s)\n",
      "image 27/28 /home/ubuntu/product-quality-ai/data/evaluate/PPCO0013900631/image_1670841528585-1670841528.png: 384x640 Done. (0.009s)\n",
      "image 28/28 /home/ubuntu/product-quality-ai/data/evaluate/PPCO0013900631/image_1670843643899-1670843644.png: 384x640 Done. (0.009s)\n",
      "Speed: 0.4ms pre-process, 9.0ms inference, 0.2ms NMS per image at shape (1, 3, 640, 640)\n",
      "Results saved to \u001b[1m../results/exp6\u001b[0m\n"
     ]
    },
    {
     "ename": "TypeError",
     "evalue": "'<' not supported between instances of 'NoneType' and 'int'",
     "output_type": "error",
     "traceback": [
      "\u001b[0;31m---------------------------------------------------------------------------\u001b[0m",
      "\u001b[0;31mTypeError\u001b[0m                                 Traceback (most recent call last)",
      "\u001b[1;32m/home/ubuntu/product-quality-ai/notebooks/test.ipynb Cell 5'\u001b[0m in \u001b[0;36m<cell line: 7>\u001b[0;34m()\u001b[0m\n\u001b[1;32m      <a href='vscode-notebook-cell://ssh-remote%2Bproduct-quality-ai-gpu/home/ubuntu/product-quality-ai/notebooks/test.ipynb#ch0000005vscode-remote?line=3'>4</a>\u001b[0m \u001b[39m# Change image_input_dir with folder of images to evaluate\u001b[39;00m\n\u001b[1;32m      <a href='vscode-notebook-cell://ssh-remote%2Bproduct-quality-ai-gpu/home/ubuntu/product-quality-ai/notebooks/test.ipynb#ch0000005vscode-remote?line=4'>5</a>\u001b[0m image_input_dir \u001b[39m=\u001b[39m \u001b[39mf\u001b[39m\u001b[39m\"\u001b[39m\u001b[39m../data/evaluate/\u001b[39m\u001b[39m{\u001b[39;00mfolder\u001b[39m}\u001b[39;00m\u001b[39m\"\u001b[39m\n\u001b[0;32m----> <a href='vscode-notebook-cell://ssh-remote%2Bproduct-quality-ai-gpu/home/ubuntu/product-quality-ai/notebooks/test.ipynb#ch0000005vscode-remote?line=6'>7</a>\u001b[0m defect_acceptance_level, pq_score \u001b[39m=\u001b[39m ai_pipeline(image_input_dir)\n\u001b[1;32m      <a href='vscode-notebook-cell://ssh-remote%2Bproduct-quality-ai-gpu/home/ubuntu/product-quality-ai/notebooks/test.ipynb#ch0000005vscode-remote?line=7'>8</a>\u001b[0m \u001b[39mprint\u001b[39m(defect_acceptance_level, pq_score)\n",
      "File \u001b[0;32m~/product-quality-ai/src/run.py:20\u001b[0m, in \u001b[0;36mai_pipeline\u001b[0;34m(image_input_dir)\u001b[0m\n\u001b[1;32m     18\u001b[0m r \u001b[39m=\u001b[39m classification()\n\u001b[1;32m     19\u001b[0m pq_score \u001b[39m=\u001b[39m r\u001b[39m.\u001b[39mrun_prediction(os\u001b[39m.\u001b[39mpath\u001b[39m.\u001b[39mjoin(detection_output_dir, \u001b[39m\"\u001b[39m\u001b[39mcrops\u001b[39m\u001b[39m\"\u001b[39m, names[\u001b[39m0\u001b[39m]))\n\u001b[0;32m---> 20\u001b[0m \u001b[39mif\u001b[39;00m pq_score \u001b[39m<\u001b[39;49m \u001b[39m5\u001b[39;49m:\n\u001b[1;32m     21\u001b[0m     defect_acceptance_level \u001b[39m=\u001b[39m \u001b[39m\"\u001b[39m\u001b[39munacceptable\u001b[39m\u001b[39m\"\u001b[39m\n\u001b[1;32m     22\u001b[0m \u001b[39melse\u001b[39;00m:\n",
      "\u001b[0;31mTypeError\u001b[0m: '<' not supported between instances of 'NoneType' and 'int'"
     ]
    }
   ],
   "source": [
    "# Run AI model pipeline\n",
    "from run import ai_pipeline\n",
    "\n",
    "# Change image_input_dir with folder of images to evaluate\n",
    "image_input_dir = f\"../data/evaluate/{folder}\"\n",
    "\n",
    "defect_acceptance_level, pq_score = ai_pipeline(image_input_dir)\n",
    "print(defect_acceptance_level, pq_score)"
   ]
  },
  {
   "cell_type": "code",
   "execution_count": null,
   "metadata": {},
   "outputs": [],
   "source": []
  }
 ],
 "metadata": {
  "kernelspec": {
   "display_name": "Python 3.8.10 64-bit",
   "language": "python",
   "name": "python3"
  },
  "language_info": {
   "codemirror_mode": {
    "name": "ipython",
    "version": 3
   },
   "file_extension": ".py",
   "mimetype": "text/x-python",
   "name": "python",
   "nbconvert_exporter": "python",
   "pygments_lexer": "ipython3",
   "version": "3.8.10"
  },
  "orig_nbformat": 4,
  "vscode": {
   "interpreter": {
    "hash": "31f2aee4e71d21fbe5cf8b01ff0e069b9275f58929596ceb00d14d90e3e16cd6"
   }
  }
 },
 "nbformat": 4,
 "nbformat_minor": 2
}
